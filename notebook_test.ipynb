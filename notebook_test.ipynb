{
 "cells": [
  {
   "cell_type": "code",
   "execution_count": 10,
   "id": "7037b24e",
   "metadata": {},
   "outputs": [],
   "source": [
    "import requests\n",
    "import json\n",
    "import sqlite3"
   ]
  },
  {
   "cell_type": "markdown",
   "id": "c2c6c67e",
   "metadata": {},
   "source": [
    "## Definition function"
   ]
  },
  {
   "cell_type": "code",
   "execution_count": 2,
   "id": "dc483ad7",
   "metadata": {},
   "outputs": [],
   "source": [
    "def get_buienradar_data():\n",
    "    url = \"https://json.buienradar.nl/\"\n",
    "    try:\n",
    "        response = requests.get(url, timeout=10)\n",
    "        response.raise_for_status()  # raises exception for HTTP errors\n",
    "\n",
    "        data = response.json()  # convert JSON to Python dict\n",
    "        return data\n",
    "\n",
    "    except requests.exceptions.RequestException as e:\n",
    "        print(f\"Error fetching Buienradar data: {e}\")\n",
    "        return None\n"
   ]
  },
  {
   "cell_type": "code",
   "execution_count": 3,
   "id": "bff952c7",
   "metadata": {},
   "outputs": [
    {
     "name": "stdout",
     "output_type": "stream",
     "text": [
      "Number of weather stations: 40\n",
      "First station: Meetstation Arcen\n",
      "Temperature: 14.4 °C\n"
     ]
    }
   ],
   "source": [
    "\n",
    "# Example usage\n",
    "if __name__ == \"__main__\":\n",
    "    buienradar_data = get_buienradar_data()\n",
    "    if buienradar_data:\n",
    "        # print general weather info\n",
    "        actual = buienradar_data.get(\"actual\", {})\n",
    "        stationmeasurements = actual.get(\"stationmeasurements\", [])\n",
    "\n",
    "        print(\"Number of weather stations:\", len(stationmeasurements))\n",
    "        if stationmeasurements:\n",
    "            first_station = stationmeasurements[0]\n",
    "            print(f\"First station: {first_station.get('stationname')}\")\n",
    "            print(f\"Temperature: {first_station.get('temperature')} °C\")"
   ]
  },
  {
   "cell_type": "code",
   "execution_count": 25,
   "id": "62bae3f1",
   "metadata": {},
   "outputs": [],
   "source": [
    "# Step 2: Create SQLite database and table\n",
    "def setup_database(db_name=\"buienradar_weather.db\"):\n",
    "    conn = sqlite3.connect(db_name)\n",
    "    cursor = conn.cursor()\n",
    "\n",
    "    # Enable foreign key support (must be set per connection)\n",
    "    cursor.execute(\"PRAGMA foreign_keys = ON;\")\n",
    "\n",
    "    cursor.execute(\"\"\"\n",
    "        CREATE TABLE IF NOT EXISTS weather_stations (\n",
    "            stationid INTEGER PRIMARY KEY,\n",
    "            stationname TEXT,\n",
    "            lat REAL,\n",
    "            lon REAL,\n",
    "            regio TEXT\n",
    "        )\n",
    "    \"\"\")\n",
    "\n",
    "    cursor.execute(\"\"\"\n",
    "        CREATE TABLE IF NOT EXISTS weather_station_measurements (\n",
    "            measurementid INTEGER PRIMARY KEY AUTOINCREMENT,\n",
    "            timestamp DATETIME,\n",
    "            temperature REAL,\n",
    "            groundtemperature REAL,\n",
    "            feeltemperature REAL,\n",
    "            windgusts REAL,\n",
    "            windspeedBft REAL,\n",
    "            humidity REAL,\n",
    "            precipitation REAL,\n",
    "            sunpower REAL,\n",
    "            stationid INTEGER,\n",
    "            FOREIGN KEY (stationid) REFERENCES weather_stations (stationid)\n",
    "                ON UPDATE CASCADE\n",
    "                ON DELETE CASCADE\n",
    "        )\n",
    "    \"\"\")\n",
    "\n",
    "    conn.commit()\n",
    "    return conn"
   ]
  },
  {
   "cell_type": "code",
   "execution_count": 31,
   "id": "52fa603d",
   "metadata": {},
   "outputs": [
    {
     "name": "stdout",
     "output_type": "stream",
     "text": [
      "🗄️ Setting up database...\n"
     ]
    },
    {
     "data": {
      "text/plain": [
       "<sqlite3.Connection at 0x1dfc3db5e40>"
      ]
     },
     "execution_count": 31,
     "metadata": {},
     "output_type": "execute_result"
    }
   ],
   "source": [
    "print(\"🗄️ Setting up database...\")\n",
    "conn = setup_database()\n",
    "conn"
   ]
  },
  {
   "cell_type": "code",
   "execution_count": null,
   "id": "3c98566e",
   "metadata": {},
   "outputs": [],
   "source": []
  },
  {
   "cell_type": "markdown",
   "id": "e843049b",
   "metadata": {},
   "source": [
    "## Testing Zone"
   ]
  },
  {
   "cell_type": "code",
   "execution_count": 27,
   "id": "fc8401af",
   "metadata": {},
   "outputs": [
    {
     "data": {
      "text/plain": [
       "{'$id': '4',\n",
       " 'stationid': 6391,\n",
       " 'stationname': 'Meetstation Arcen',\n",
       " 'lat': 51.5,\n",
       " 'lon': 6.2,\n",
       " 'regio': 'Venlo',\n",
       " 'timestamp': '2025-10-22T13:40:00',\n",
       " 'weatherdescription': 'Zwaar bewolkt',\n",
       " 'iconurl': 'https://cdn.buienradar.nl/resources/images/icons/weather/30x30/c.png',\n",
       " 'fullIconUrl': 'https://cdn.buienradar.nl/resources/images/icons/weather/96x96/C.png',\n",
       " 'graphUrl': 'https://www.buienradar.nl/nederland/weerbericht/weergrafieken/c',\n",
       " 'winddirection': 'ZW',\n",
       " 'temperature': 14.6,\n",
       " 'groundtemperature': 14.7,\n",
       " 'feeltemperature': 14.6,\n",
       " 'windgusts': 2.6,\n",
       " 'windspeed': 1.4,\n",
       " 'windspeedBft': 1,\n",
       " 'humidity': 79.0,\n",
       " 'precipitation': 0.0,\n",
       " 'sunpower': 214.0,\n",
       " 'rainFallLast24Hour': 0.2,\n",
       " 'rainFallLastHour': 0.0,\n",
       " 'winddirectiondegrees': 233}"
      ]
     },
     "execution_count": 27,
     "metadata": {},
     "output_type": "execute_result"
    }
   ],
   "source": [
    "url = \"https://json.buienradar.nl/\"\n",
    "response= requests.get(url, timeout=10)\n",
    "data = response.json()\n",
    "\n",
    "stations = data.get(\"actual\", {}).get(\"stationmeasurements\", [])\n",
    "stations[0]\n"
   ]
  },
  {
   "cell_type": "code",
   "execution_count": 28,
   "id": "430b71e5",
   "metadata": {},
   "outputs": [],
   "source": [
    "cursor = conn.cursor()\n",
    "cursor.execute(\"\"\"\n",
    "    INSERT INTO weather_stations (stationid, stationname, lat, lon, regio)\n",
    "    VALUES (?, ?, ?, ?, ?)\n",
    "\"\"\", (\n",
    "    stations[0].get(\"stationid\"),\n",
    "    stations[0].get(\"stationname\"),\n",
    "    stations[0].get(\"lat\"),\n",
    "    stations[0].get(\"lon\"),\n",
    "    stations[0].get(\"regio\")\n",
    "    )\n",
    ")\n",
    "conn.commit()"
   ]
  },
  {
   "cell_type": "code",
   "execution_count": 30,
   "id": "f84ccd93",
   "metadata": {},
   "outputs": [],
   "source": [
    "cursor = conn.cursor()\n",
    "cursor.execute(\"\"\"\n",
    "    INSERT INTO weather_station_measurements ( timestamp, temperature, groundtemperature, feeltemperature, windgusts, windspeedBft, humidity, precipitation, sunpower, stationid)\n",
    "    VALUES (?, ?, ?, ?, ?, ?, ?, ?, ?, ?)\n",
    "\"\"\", (\n",
    "    stations[0].get(\"timestamp\"),\n",
    "    stations[0].get(\"temperature\"),\n",
    "    stations[0].get(\"groundtemperature\"),\n",
    "    stations[0].get(\"feeltemperature\"),\n",
    "    stations[0].get(\"windgusts\"),\n",
    "    stations[0].get(\"humidity\"),\n",
    "    stations[0].get(\"windspeedBft\"),\n",
    "    stations[0].get(\"precipitation\"),\n",
    "    stations[0].get(\"sunpower\"),\n",
    "    stations[0].get(\"stationid\")\n",
    "    )\n",
    ")\n",
    "conn.commit()"
   ]
  },
  {
   "cell_type": "code",
   "execution_count": null,
   "id": "034ab27e",
   "metadata": {},
   "outputs": [],
   "source": [
    "def insert_station_data(conn, data):\n",
    "    cursor = conn.cursor()\n",
    "\n",
    "    # Enable foreign keys\n",
    "    cursor.execute(\"PRAGMA foreign_keys = ON;\")\n",
    "\n",
    "    # Get list of stations from JSON\n",
    "    stations = data.get(\"actual\", {}).get(\"stationmeasurements\", [])\n",
    "\n",
    "    # Keep track of existing station IDs to avoid duplicates\n",
    "    # (Optional: you can skip this if you always clear the tables first)\n",
    "    cursor.execute(\"SELECT stationname, stationid FROM weather_stations\")\n",
    "    existing_stations = {row[0]: row[1] for row in cursor.fetchall()}\n",
    "\n",
    "    for s in stations:\n",
    "        stationname = s.get(\"stationname\")\n",
    "        lat = s.get(\"lat\")\n",
    "        lon = s.get(\"lon\")\n",
    "        regio = s.get(\"regio\") if \"regio\" in s else None  # optional field\n",
    "\n",
    "        # Insert station only if it doesn't exist\n",
    "        if stationname in existing_stations:\n",
    "            stationid = existing_stations[stationname]\n",
    "        else:\n",
    "            cursor.execute(\"\"\"\n",
    "                INSERT INTO weather_stations (stationname, lat, lon, regio)\n",
    "                VALUES (?, ?, ?, ?)\n",
    "            \"\"\", (stationname, lat, lon, regio))\n",
    "            stationid = cursor.lastrowid\n",
    "            existing_stations[stationname] = stationid\n",
    "\n",
    "        # Insert measurement\n",
    "        cursor.execute(\"\"\"\n",
    "            INSERT INTO weather_station_measurements\n",
    "            (temperature, groundtemperature, feeltemperature, windgusts, windspeedBft,\n",
    "             humidity, precipitation, sunpower, stationid)\n",
    "            VALUES (?, ?, ?, ?, ?, ?, ?, ?, ?)\n",
    "        \"\"\", (\n",
    "            s.get(\"temperature\"),\n",
    "            s.get(\"groundtemperature\"),\n",
    "            s.get(\"feeltemperature\"),\n",
    "            s.get(\"windgusts\"),\n",
    "            s.get(\"windspeedBft\"),\n",
    "            s.get(\"humidity\"),\n",
    "            s.get(\"precipitation\"),\n",
    "            s.get(\"sunpower\"),\n",
    "            stationid\n",
    "        ))\n",
    "\n",
    "    # Commit everything in a single transaction\n",
    "    conn.commit()\n",
    "    print(f\"✅ Inserted {len(stations)} station measurements into the database.\")\n",
    "\n"
   ]
  },
  {
   "cell_type": "code",
   "execution_count": null,
   "id": "0fbda13e",
   "metadata": {},
   "outputs": [],
   "source": []
  },
  {
   "cell_type": "code",
   "execution_count": null,
   "id": "9cd85428",
   "metadata": {},
   "outputs": [],
   "source": []
  },
  {
   "cell_type": "code",
   "execution_count": null,
   "id": "b7ff2e21",
   "metadata": {},
   "outputs": [],
   "source": []
  },
  {
   "cell_type": "code",
   "execution_count": null,
   "id": "ef65f65a",
   "metadata": {},
   "outputs": [],
   "source": []
  },
  {
   "cell_type": "code",
   "execution_count": null,
   "id": "98864e28",
   "metadata": {},
   "outputs": [],
   "source": []
  }
 ],
 "metadata": {
  "kernelspec": {
   "display_name": ".venv (3.13.2)",
   "language": "python",
   "name": "python3"
  },
  "language_info": {
   "codemirror_mode": {
    "name": "ipython",
    "version": 3
   },
   "file_extension": ".py",
   "mimetype": "text/x-python",
   "name": "python",
   "nbconvert_exporter": "python",
   "pygments_lexer": "ipython3",
   "version": "3.13.2"
  }
 },
 "nbformat": 4,
 "nbformat_minor": 5
}
