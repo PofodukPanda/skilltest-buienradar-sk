{
 "cells": [
  {
   "cell_type": "code",
   "execution_count": 48,
   "id": "7037b24e",
   "metadata": {},
   "outputs": [],
   "source": [
    "import requests\n",
    "import json\n",
    "import sqlite3\n",
    "import logging"
   ]
  },
  {
   "cell_type": "markdown",
   "id": "c2c6c67e",
   "metadata": {},
   "source": [
    "## Definition function"
   ]
  },
  {
   "cell_type": "code",
   "execution_count": 33,
   "id": "dc483ad7",
   "metadata": {},
   "outputs": [],
   "source": [
    "def get_buienradar_data():\n",
    "    url = \"https://json.buienradar.nl/\"\n",
    "    try:\n",
    "        response = requests.get(url, timeout=10)\n",
    "        response.raise_for_status()  # raises exception for HTTP errors\n",
    "\n",
    "        data = response.json()  # convert JSON to Python dict\n",
    "        return data\n",
    "\n",
    "    except requests.exceptions.RequestException as e:\n",
    "        print(f\"Error fetching Buienradar data: {e}\")\n",
    "        return None\n"
   ]
  },
  {
   "cell_type": "code",
   "execution_count": 34,
   "id": "3c98566e",
   "metadata": {},
   "outputs": [],
   "source": [
    "def get_connection(db_name=\"buienradar_weather.db\"):\n",
    "    conn = sqlite3.connect(db_name)\n",
    "    conn.execute(\"PRAGMA foreign_keys = ON;\")\n",
    "    return conn"
   ]
  },
  {
   "cell_type": "code",
   "execution_count": 44,
   "id": "62bae3f1",
   "metadata": {},
   "outputs": [],
   "source": [
    "# Step 1: Create database schema\n",
    "def setup_database(conn):\n",
    "    cursor = conn.cursor()\n",
    "\n",
    "    # Station table — use stationid from Buienradar as PRIMARY KEY (no AUTOINCREMENT)\n",
    "    cursor.execute(\"\"\"\n",
    "        CREATE TABLE IF NOT EXISTS weather_stations (\n",
    "            stationid INTEGER PRIMARY KEY,\n",
    "            stationname TEXT,\n",
    "            lat REAL,\n",
    "            lon REAL,\n",
    "            regio TEXT\n",
    "        )\n",
    "    \"\"\")\n",
    "\n",
    "    # Measurements table — link stationid as foreign key\n",
    "    cursor.execute(\"\"\"\n",
    "        CREATE TABLE IF NOT EXISTS weather_station_measurements (\n",
    "            measurementid INTEGER PRIMARY KEY AUTOINCREMENT,\n",
    "            timestamp DATETIME,\n",
    "            temperature REAL,\n",
    "            groundtemperature REAL,\n",
    "            feeltemperature REAL,\n",
    "            windgusts REAL,\n",
    "            windspeedBft REAL,\n",
    "            humidity REAL,\n",
    "            precipitation REAL,\n",
    "            sunpower REAL,\n",
    "            stationid INTEGER,\n",
    "            FOREIGN KEY (stationid) REFERENCES weather_stations(stationid)\n",
    "                ON UPDATE CASCADE\n",
    "                ON DELETE CASCADE\n",
    "        )\n",
    "    \"\"\")\n",
    "    conn.commit()"
   ]
  },
  {
   "cell_type": "markdown",
   "id": "e843049b",
   "metadata": {},
   "source": [
    "## Testing Zone"
   ]
  },
  {
   "cell_type": "code",
   "execution_count": 32,
   "id": "fc8401af",
   "metadata": {},
   "outputs": [
    {
     "data": {
      "text/plain": [
       "{'$id': '4',\n",
       " 'stationid': 6391,\n",
       " 'stationname': 'Meetstation Arcen',\n",
       " 'lat': 51.5,\n",
       " 'lon': 6.2,\n",
       " 'regio': 'Venlo',\n",
       " 'timestamp': '2025-10-22T14:00:00',\n",
       " 'weatherdescription': 'Zwaar bewolkt',\n",
       " 'iconurl': 'https://cdn.buienradar.nl/resources/images/icons/weather/30x30/c.png',\n",
       " 'fullIconUrl': 'https://cdn.buienradar.nl/resources/images/icons/weather/96x96/C.png',\n",
       " 'graphUrl': 'https://www.buienradar.nl/nederland/weerbericht/weergrafieken/c',\n",
       " 'winddirection': 'WZW',\n",
       " 'temperature': 14.9,\n",
       " 'groundtemperature': 15.0,\n",
       " 'feeltemperature': 14.9,\n",
       " 'windgusts': 3.7,\n",
       " 'windspeed': 1.8,\n",
       " 'windspeedBft': 2,\n",
       " 'humidity': 77.0,\n",
       " 'precipitation': 0.0,\n",
       " 'sunpower': 239.0,\n",
       " 'rainFallLast24Hour': 0.2,\n",
       " 'rainFallLastHour': 0.0,\n",
       " 'winddirectiondegrees': 243}"
      ]
     },
     "execution_count": 32,
     "metadata": {},
     "output_type": "execute_result"
    }
   ],
   "source": [
    "url = \"https://json.buienradar.nl/\"\n",
    "response= requests.get(url, timeout=10)\n",
    "data = response.json()\n",
    "\n",
    "stations = data.get(\"actual\", {}).get(\"stationmeasurements\", [])\n",
    "stations[0]\n"
   ]
  },
  {
   "cell_type": "code",
   "execution_count": 38,
   "id": "034ab27e",
   "metadata": {},
   "outputs": [],
   "source": [
    "# Step 2: Insert or update stations\n",
    "def insert_stations(conn, data):\n",
    "    cursor = conn.cursor()\n",
    "    stations = data.get(\"actual\", {}).get(\"stationmeasurements\", [])\n",
    "\n",
    "    for s in stations:\n",
    "        cursor.execute(\"\"\"\n",
    "            INSERT INTO weather_stations (stationid, stationname, lat, lon, regio)\n",
    "            VALUES (?, ?, ?, ?, ?)\n",
    "            ON CONFLICT(stationid) DO UPDATE SET\n",
    "                stationname=excluded.stationname,\n",
    "                lat=excluded.lat,\n",
    "                lon=excluded.lon,\n",
    "                regio=excluded.regio;\n",
    "        \"\"\", (\n",
    "            s.get(\"stationid\"),\n",
    "            s.get(\"stationname\"),\n",
    "            s.get(\"lat\"),\n",
    "            s.get(\"lon\"),\n",
    "            s.get(\"regio\")\n",
    "        ))\n",
    "\n",
    "    conn.commit()\n",
    "    print(f\"✅ Inserted/updated {len(stations)} stations.\")"
   ]
  },
  {
   "cell_type": "code",
   "execution_count": 45,
   "id": "0fbda13e",
   "metadata": {},
   "outputs": [],
   "source": [
    "conn = get_connection()\n",
    "setup_database(conn)\n"
   ]
  },
  {
   "cell_type": "code",
   "execution_count": 39,
   "id": "9cd85428",
   "metadata": {},
   "outputs": [
    {
     "name": "stdout",
     "output_type": "stream",
     "text": [
      "✅ Inserted/updated 40 stations.\n"
     ]
    }
   ],
   "source": [
    "insert_stations(conn, data)"
   ]
  },
  {
   "cell_type": "code",
   "execution_count": 46,
   "id": "b7ff2e21",
   "metadata": {},
   "outputs": [],
   "source": [
    "# Step 3: Insert measurements linked by stationid\n",
    "def insert_measurements(conn, data):\n",
    "    cursor = conn.cursor()\n",
    "    stations = data.get(\"actual\", {}).get(\"stationmeasurements\", [])\n",
    "\n",
    "    for s in stations:\n",
    "        cursor.execute(\"\"\"\n",
    "            INSERT INTO weather_station_measurements\n",
    "            (timestamp, temperature, groundtemperature, feeltemperature, windgusts, windspeedBft,\n",
    "             humidity, precipitation, sunpower, stationid)\n",
    "            VALUES (?, ?, ?, ?, ?, ?, ?, ?, ?, ?)\n",
    "        \"\"\", (\n",
    "            s.get(\"timestamp\"),\n",
    "            s.get(\"temperature\"),  \n",
    "            s.get(\"groundtemperature\"),\n",
    "            s.get(\"feeltemperature\"),\n",
    "            s.get(\"windgusts\"),\n",
    "            s.get(\"windspeedBft\"),\n",
    "            s.get(\"humidity\"),\n",
    "            s.get(\"precipitation\"),\n",
    "            s.get(\"sunpower\"),\n",
    "            s.get(\"stationid\")\n",
    "        ))\n",
    "\n",
    "    conn.commit()\n",
    "    print(f\"✅ Inserted {len(stations)} station measurements.\")"
   ]
  },
  {
   "cell_type": "code",
   "execution_count": 47,
   "id": "ef65f65a",
   "metadata": {},
   "outputs": [
    {
     "name": "stdout",
     "output_type": "stream",
     "text": [
      "✅ Inserted 40 station measurements.\n"
     ]
    }
   ],
   "source": [
    "insert_measurements(conn, data)"
   ]
  },
  {
   "cell_type": "code",
   "execution_count": null,
   "id": "98864e28",
   "metadata": {},
   "outputs": [],
   "source": []
  }
 ],
 "metadata": {
  "kernelspec": {
   "display_name": ".venv (3.13.2)",
   "language": "python",
   "name": "python3"
  },
  "language_info": {
   "codemirror_mode": {
    "name": "ipython",
    "version": 3
   },
   "file_extension": ".py",
   "mimetype": "text/x-python",
   "name": "python",
   "nbconvert_exporter": "python",
   "pygments_lexer": "ipython3",
   "version": "3.13.2"
  }
 },
 "nbformat": 4,
 "nbformat_minor": 5
}
