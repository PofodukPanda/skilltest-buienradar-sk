{
 "cells": [
  {
   "cell_type": "markdown",
   "id": "2fe4a33f",
   "metadata": {},
   "source": [
    "# Data Analysis"
   ]
  },
  {
   "cell_type": "markdown",
   "id": "7a78f6e1",
   "metadata": {},
   "source": [
    "The goal of this notebook is to answer the different data analysis questions on the Buienradar Weather Data"
   ]
  },
  {
   "cell_type": "markdown",
   "id": "b82ab1e0",
   "metadata": {},
   "source": [
    "#### Import"
   ]
  },
  {
   "cell_type": "code",
   "execution_count": null,
   "id": "ef9553d5",
   "metadata": {},
   "outputs": [],
   "source": [
    "import sys\n",
    "import os\n",
    "# Add the main project directory to sys.path\n",
    "sys.path.append(os.path.abspath(\"..\"))\n",
    "\n",
    "from helper import get_connection, run_sql_script"
   ]
  },
  {
   "cell_type": "markdown",
   "id": "8a80a791",
   "metadata": {},
   "source": [
    "#### Q5 Which weather station recorded the highest temperature?"
   ]
  },
  {
   "cell_type": "code",
   "execution_count": null,
   "id": "4d3f2276",
   "metadata": {},
   "outputs": [
    {
     "name": "stdout",
     "output_type": "stream",
     "text": [
      "Station with the highest temperature: Meetstation Horst\n"
     ]
    }
   ],
   "source": [
    "conn = get_connection(\"../buienradar_weather.db\")\n",
    "highest_temp_station = run_sql_script(conn, \"../sql/Q5_highest_temperature_station.sql\")\n",
    "print(\"Station with the highest temperature:\", highest_temp_station[0][0])"
   ]
  },
  {
   "cell_type": "markdown",
   "id": "e42a5da2",
   "metadata": {},
   "source": [
    "#### Q6 What is the average temperature?"
   ]
  },
  {
   "cell_type": "code",
   "execution_count": 8,
   "id": "1c93383b",
   "metadata": {},
   "outputs": [
    {
     "name": "stdout",
     "output_type": "stream",
     "text": [
      "Average temperature: 14.56\n"
     ]
    }
   ],
   "source": [
    "conn = get_connection(\"../buienradar_weather.db\")\n",
    "avg_temp = run_sql_script(conn, \"../sql/Q6_average_temperature.sql\")\n",
    "print(\"Average temperature:\", avg_temp[0][0])"
   ]
  },
  {
   "cell_type": "markdown",
   "id": "1ba20acb",
   "metadata": {},
   "source": [
    "#### Q7 What is the station with the biggest difference between feel temperature and the actual temperature?"
   ]
  },
  {
   "cell_type": "code",
   "execution_count": 9,
   "id": "42bc3f46",
   "metadata": {},
   "outputs": [
    {
     "name": "stdout",
     "output_type": "stream",
     "text": [
      "Station with the highest temperature difference between real and feel: Meetstation Zeeplatform F-3\n"
     ]
    }
   ],
   "source": [
    "conn = get_connection(\"../buienradar_weather.db\")\n",
    "highest_temp_diff_station = run_sql_script(conn, \"../sql/Q7_highest_temperature_diff_station.sql\")\n",
    "print(\"Station with the highest temperature difference between real and feel:\", highest_temp_diff_station[0][0])"
   ]
  },
  {
   "cell_type": "markdown",
   "id": "7a86dbea",
   "metadata": {},
   "source": [
    "#### Q8 Which weather station is located in the North Sea?"
   ]
  },
  {
   "cell_type": "code",
   "execution_count": 10,
   "id": "bb926026",
   "metadata": {},
   "outputs": [
    {
     "name": "stdout",
     "output_type": "stream",
     "text": [
      "Station in the North Sea: Meetstation Zeeplatform F-3\n"
     ]
    }
   ],
   "source": [
    "conn = get_connection(\"../buienradar_weather.db\")\n",
    "north_sea_station = run_sql_script(conn, \"../sql/Q8_north_sea_station.sql\")\n",
    "print(\"Station in the North Sea:\", north_sea_station[0][0])"
   ]
  }
 ],
 "metadata": {
  "kernelspec": {
   "display_name": ".venv (3.13.2)",
   "language": "python",
   "name": "python3"
  },
  "language_info": {
   "codemirror_mode": {
    "name": "ipython",
    "version": 3
   },
   "file_extension": ".py",
   "mimetype": "text/x-python",
   "name": "python",
   "nbconvert_exporter": "python",
   "pygments_lexer": "ipython3",
   "version": "3.13.2"
  }
 },
 "nbformat": 4,
 "nbformat_minor": 5
}
