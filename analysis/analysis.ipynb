{
 "cells": [
  {
   "cell_type": "code",
   "execution_count": 1,
   "id": "ef9553d5",
   "metadata": {},
   "outputs": [],
   "source": [
    "import sys\n",
    "import os\n",
    "# Add the main project directory to sys.path\n",
    "sys.path.append(os.path.abspath(\"..\"))\n",
    "\n",
    "# Now you can import helper\n",
    "from helper import get_connection, run_sql_script"
   ]
  },
  {
   "cell_type": "code",
   "execution_count": null,
   "id": "4d3f2276",
   "metadata": {},
   "outputs": [
    {
     "name": "stdout",
     "output_type": "stream",
     "text": [
      "Station with the highest temperature: Meetstation Horst\n"
     ]
    }
   ],
   "source": [
    "conn = get_connection(\"../buienradar_weather.db\")\n",
    "highest_temp_station = run_sql_script(conn, \"../sql/Q5_highest_temperature_station.sql\")\n",
    "print(\"Station with the highest temperature:\", highest_temp_station[0][0])\n"
   ]
  },
  {
   "cell_type": "code",
   "execution_count": 8,
   "id": "1c93383b",
   "metadata": {},
   "outputs": [
    {
     "name": "stdout",
     "output_type": "stream",
     "text": [
      "Average temperature: 14.56\n"
     ]
    }
   ],
   "source": [
    "conn = get_connection(\"../buienradar_weather.db\")\n",
    "avg_temp = run_sql_script(conn, \"../sql/Q6_average_temperature.sql\")\n",
    "print(\"Average temperature:\", avg_temp[0][0])"
   ]
  },
  {
   "cell_type": "code",
   "execution_count": 9,
   "id": "42bc3f46",
   "metadata": {},
   "outputs": [
    {
     "name": "stdout",
     "output_type": "stream",
     "text": [
      "Station with the highest temperature difference between real and feel: Meetstation Zeeplatform F-3\n"
     ]
    }
   ],
   "source": [
    "conn = get_connection(\"../buienradar_weather.db\")\n",
    "highest_temp_diff_station = run_sql_script(conn, \"../sql/Q7_highest_temperature_diff_station.sql\")\n",
    "print(\"Station with the highest temperature difference between real and feel:\", highest_temp_diff_station[0][0])"
   ]
  },
  {
   "cell_type": "code",
   "execution_count": 10,
   "id": "bb926026",
   "metadata": {},
   "outputs": [
    {
     "name": "stdout",
     "output_type": "stream",
     "text": [
      "Station in the North Sea: Meetstation Zeeplatform F-3\n"
     ]
    }
   ],
   "source": [
    "conn = get_connection(\"../buienradar_weather.db\")\n",
    "north_sea_station = run_sql_script(conn, \"../sql/Q8_north_sea_station.sql\")\n",
    "print(\"Station in the North Sea:\", north_sea_station[0][0])"
   ]
  }
 ],
 "metadata": {
  "kernelspec": {
   "display_name": ".venv (3.13.2)",
   "language": "python",
   "name": "python3"
  },
  "language_info": {
   "codemirror_mode": {
    "name": "ipython",
    "version": 3
   },
   "file_extension": ".py",
   "mimetype": "text/x-python",
   "name": "python",
   "nbconvert_exporter": "python",
   "pygments_lexer": "ipython3",
   "version": "3.13.2"
  }
 },
 "nbformat": 4,
 "nbformat_minor": 5
}
